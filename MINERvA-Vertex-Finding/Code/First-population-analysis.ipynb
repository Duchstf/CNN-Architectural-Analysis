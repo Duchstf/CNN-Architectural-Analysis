{
 "cells": [
  {
   "cell_type": "markdown",
   "metadata": {},
   "source": [
    "# Classification task for first population"
   ]
  },
  {
   "cell_type": "code",
   "execution_count": 2,
   "metadata": {},
   "outputs": [],
   "source": [
    "#Data processing\n",
    "import numpy as np\n",
    "import pandas as pd\n",
    "import plotly.plotly as py\n",
    "import plotly.figure_factory as ff\n",
    "\n",
    "#Plotting\n",
    "import matplotlib.lines as mlines\n",
    "import matplotlib.pyplot as plt\n",
    "import seaborn as sns; sns.set()\n",
    "\n",
    "#Analysis\n",
    "from mpl_toolkits.mplot3d import Axes3D\n",
    "from sklearn.decomposition import PCA\n",
    "from sklearn.manifold import TSNE\n",
    "\n",
    "#Common Model Algorithms\n",
    "from sklearn.naive_bayes import GaussianNB, BernoulliNB, MultinomialNB\n",
    "from sklearn import tree\n",
    "from sklearn.svm import SVC\n",
    "from sklearn.ensemble import RandomForestClassifier\n",
    "from sklearn.linear_model import LogisticRegressionCV\n",
    "from sklearn.ensemble import ExtraTreesClassifier, RandomTreesEmbedding\n",
    "from sklearn.ensemble import AdaBoostClassifier, GradientBoostingClassifier\n",
    "from sklearn.neighbors import KNeighborsClassifier\n",
    "from sklearn.linear_model import Perceptron\n",
    "from sklearn.neural_network import MLPClassifier\n",
    "\n",
    "#Machine Learning\n",
    "from sklearn.ensemble import RandomForestClassifier,ExtraTreesClassifier\n",
    "from sklearn import tree\n",
    "\n",
    "#Helpers\n",
    "from sklearn import model_selection\n",
    "\n",
    "%matplotlib inline"
   ]
  },
  {
   "cell_type": "code",
   "execution_count": 3,
   "metadata": {},
   "outputs": [],
   "source": [
    "df_normed = pd.read_csv('/Users/duc_hoang/Box Sync/Fermilab Summer Research/Analysis_Scripts/Main data/Jesse_data/normalized_all_Jesse_simple_attributes.csv', index_col = 0)"
   ]
  },
  {
   "cell_type": "code",
   "execution_count": 4,
   "metadata": {},
   "outputs": [
    {
     "data": {
      "text/plain": [
       "Index(['initial_accuracy', 'final_accuracy', 'genealogy', 'net_depth_avg',\n",
       "       'num_conv_layers', 'num_pooling_layers', 'avg_IP_neurons',\n",
       "       'avg_IP_weights', 'avg_split_width', 'avg_concat_width',\n",
       "       'avg_num_conv_features', 'prop_conv_into_pool', 'prop_pool_into_pool',\n",
       "       'prop_1x1_conv', 'prop_square_kernels', 'prop_horiz_kernels',\n",
       "       'prop_vert_kernels', 'num_relu', 'num_sigmoid',\n",
       "       'avg_grid_reduction_area_consecutive',\n",
       "       'avg_grid_reduction_height_consecutive',\n",
       "       'avg_grid_reduction_width_consecutive', 'avg_grid_reduction_area_total',\n",
       "       'avg_grid_reduction_height_total', 'avg_grid_reduction_width_total',\n",
       "       'prop_nonoverlapping', 'avg_stride_h', 'avg_stride_w',\n",
       "       'avg_ratio_features_to_depth', 'avg_ratio_features_to_kerArea',\n",
       "       'avg_ratio_features_to_kerWidth', 'avg_ratio_features_to_kerHeight',\n",
       "       'avg_ratio_kerArea_to_depth', 'avg_ratio_kerWidth_to_depth',\n",
       "       'avg_ratio_kerHeight_to_depth'],\n",
       "      dtype='object')"
      ]
     },
     "execution_count": 4,
     "metadata": {},
     "output_type": "execute_result"
    }
   ],
   "source": [
    "df_normed.columns"
   ]
  },
  {
   "cell_type": "code",
   "execution_count": 5,
   "metadata": {},
   "outputs": [],
   "source": [
    "#get normalized independent features (excluding accuracies and geneology)\n",
    "X_normed = df_normed.drop(columns=['initial_accuracy','final_accuracy', 'genealogy'])"
   ]
  },
  {
   "cell_type": "code",
   "execution_count": 8,
   "metadata": {},
   "outputs": [
    {
     "data": {
      "image/png": "[encoded data removed]",
      "text/plain": [
       "<Figure size 504x504 with 1 Axes>"
      ]
     },
     "metadata": {
      "needs_background": "light"
     },
     "output_type": "display_data"
    }
   ],
   "source": [
    "#histogram\n",
    "fig = plt.figure(figsize=[7,7])\n",
    "fig1 = sns.distplot(df_normed[\"final_accuracy\"],\n",
    "                    hist=True, kde=True, \n",
    "                    color = 'darkblue',\n",
    "                    hist_kws={'edgecolor':'black'},\n",
    "                    kde_kws={'linewidth': 2}, norm_hist=True);\n",
    "fig1.set_xlabel(\"Accuracy\", fontsize = 18)\n",
    "plt.savefig('Accuracy_distribution_2.png')"
   ]
  }
 ],
 "metadata": {
  "kernelspec": {
   "display_name": "Python 3",
   "language": "python",
   "name": "python3"
  },
  "language_info": {
   "codemirror_mode": {
    "name": "ipython",
    "version": 3
   },
   "file_extension": ".py",
   "mimetype": "text/x-python",
   "name": "python",
   "nbconvert_exporter": "python",
   "pygments_lexer": "ipython3",
   "version": "3.6.8"
  }
 },
 "nbformat": 4,
 "nbformat_minor": 2
}
